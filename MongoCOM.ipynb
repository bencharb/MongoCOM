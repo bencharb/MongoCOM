{
 "cells": [
  {
   "cell_type": "code",
   "execution_count": 33,
   "metadata": {
    "collapsed": true
   },
   "outputs": [],
   "source": [
    "import bson\n",
    "from mongoengine import query\n",
    "import functools"
   ]
  },
  {
   "cell_type": "code",
   "execution_count": 34,
   "metadata": {
    "collapsed": true
   },
   "outputs": [],
   "source": [
    "class Stub(object):\n",
    "    pass"
   ]
  },
  {
   "cell_type": "code",
   "execution_count": 35,
   "metadata": {
    "collapsed": true
   },
   "outputs": [],
   "source": [
    "import collections"
   ]
  },
  {
   "cell_type": "code",
   "execution_count": 36,
   "metadata": {
    "collapsed": true
   },
   "outputs": [],
   "source": [
    "def make_nodes(*keys):\n",
    "    kdict = {'keys':keys}\n",
    "    def setter(val=None):\n",
    "        keys = list(kdict['keys'])\n",
    "        nextkey = keys.pop()\n",
    "        nextval = {nextkey:val}\n",
    "        setitem_funcs = []\n",
    "        setfunc = functools.partial(nextval.__setitem__, nextkey)\n",
    "        setitem_funcs.append(setfunc)\n",
    "        for nextkey in reversed(keys):\n",
    "            nextval = {nextkey:nextval}\n",
    "            setfunc = functools.partial(nextval.__setitem__, nextkey)\n",
    "            setitem_funcs.append(setfunc)\n",
    "        return nextval\n",
    "    return setter"
   ]
  },
  {
   "cell_type": "code",
   "execution_count": 37,
   "metadata": {
    "collapsed": false
   },
   "outputs": [],
   "source": [
    "def make_node_setter(*keys, **kwargs):\n",
    "    dct = kwargs.get('dct', None)\n",
    "    localdict = {'keys':keys,'dct':dct}\n",
    "    def setter(val=None, dct=None):\n",
    "        if dct is None:\n",
    "            dct = localdict['dct'] or {}\n",
    "        keys = list(localdict['keys'])\n",
    "        lastkey = keys.pop()\n",
    "        nextdct = dct\n",
    "        for k in keys:\n",
    "            if k not in nextdct:\n",
    "                nextdct[k] = {}\n",
    "            nextdct = nextdct[k]\n",
    "        nextdct[lastkey] = val\n",
    "        return dct\n",
    "    return setter"
   ]
  },
  {
   "cell_type": "code",
   "execution_count": 38,
   "metadata": {
    "collapsed": false
   },
   "outputs": [],
   "source": [
    "DEFAULT_DELIM = '.'\n",
    "\n",
    "def _object_to_rows(obj, prefix=None, delim=DEFAULT_DELIM):\n",
    "    rows = []\n",
    "    dot_prefix = (prefix and (prefix + delim) or '')\n",
    "    if isinstance(obj, dict):\n",
    "        for key, item in obj.iteritems():\n",
    "            rows.extend(_object_to_rows(item, prefix=dot_prefix + key, delim=delim))\n",
    "    elif isinstance(obj, (list, tuple)):\n",
    "        for i, item in enumerate(obj):\n",
    "            rows.extend(_object_to_rows(item, prefix=dot_prefix + str(i), delim=delim))\n",
    "    else:\n",
    "        rows.append(((prefix or ''), obj))\n",
    "    return rows\n",
    "\n",
    "def flatten(obj, delim=DEFAULT_DELIM):\n",
    "    return dict(_object_to_rows(obj, delim=delim))\n",
    "\n",
    "class DotMapper(unicode):\n",
    "    sep = '.'\n",
    "    \n",
    "    @property\n",
    "    def parts(self):\n",
    "        return self.split(self.sep)\n",
    "        \n",
    "    def get(self, obj, parts=None):\n",
    "        parts = parts or self.parts\n",
    "        next_obj = obj\n",
    "        len_parts = len(parts)\n",
    "        for i, part in enumerate(parts):\n",
    "            selection = None\n",
    "            if next_obj is None:\n",
    "                return\n",
    "            if hasattr(next_obj, '__getitem__'):\n",
    "                selection = next_obj.get(part, None)\n",
    "            else:\n",
    "                selection = getattr(next_obj, part, None)\n",
    "            if i+1 <= len_parts:\n",
    "                next_obj = selection\n",
    "        return next_obj\n",
    "    \n",
    "    def __call__(self, thing):\n",
    "        if not self:\n",
    "            return thing\n",
    "        return self.get(thing)\n",
    "    \n",
    "    def dict_setter(self, *keys):\n",
    "        keys = keys or self.parts\n",
    "        return make_node_setter(*keys)\n",
    "    \n",
    "    \n",
    "def test_flatten(doc):\n",
    "    for k, v in flatten(doc).iteritems():\n",
    "        keys = k.split('.')\n",
    "        if len(keys) == 1:\n",
    "            captured_val = v\n",
    "        else:\n",
    "            newv = doc\n",
    "            for key in keys:\n",
    "                newv = newv[key]\n",
    "            captured_val = newv\n",
    "        assert v == captured_val\n",
    "    print 'test successful'\n",
    "def test_dotmapper(doc):\n",
    "    for bigkey, v in flatten(doc).iteritems():\n",
    "         assert DotMapper(bigkey)(doc) == v\n",
    "    print 'test successful'"
   ]
  },
  {
   "cell_type": "code",
   "execution_count": 39,
   "metadata": {
    "collapsed": true
   },
   "outputs": [],
   "source": [
    "def _mq(cls, **kwargs):\n",
    "    dct = {}\n",
    "    for k,v in kwargs.iteritems():\n",
    "        parts = k.split('__')\n",
    "        op = None\n",
    "        if parts[-1] in MongoProperty.operators:\n",
    "            op = parts.pop()\n",
    "            k = '__'.join(parts)\n",
    "        prop = getattr(cls, k, None)\n",
    "        if prop is not None:\n",
    "            dct.update(prop.expression(v, op=op))\n",
    "        else:\n",
    "            kop = k+'__'+op if op is not None else k\n",
    "            dct.update(query(**{kop:v}))\n",
    "    return dct\n",
    "\n",
    "def mq(cls, **kwargs):\n",
    "    and_ = kwargs.pop('and_', None)\n",
    "    or_ = kwargs.pop('or_', None)\n",
    "    not_ = kwargs.pop('not_', None)\n",
    "    dct = {}\n",
    "    dct.update(_mq(cls, **kwargs))\n",
    "    if and_:\n",
    "        dct.update({'$and':_mq(cls, **and_)})\n",
    "    if or_:\n",
    "        dct.update({'$or':_mq(cls, **or_)})\n",
    "    if not_:\n",
    "        dct.update({k:{'$not':v} for k, v in _mq(cls, **not_).iteritems()})\n",
    "    return dct\n",
    "\n",
    "setattr(mq, 'and_', lambda c, **kw: mq(c, and_=kw))\n",
    "setattr(mq, 'or_', lambda c, **kw: mq(c, or_=kw))\n",
    "setattr(mq, 'not_', lambda c, **kw: mq(c, not_=kw))\n",
    "\n"
   ]
  },
  {
   "cell_type": "code",
   "execution_count": 40,
   "metadata": {
    "collapsed": false
   },
   "outputs": [],
   "source": [
    "\n",
    "class MongoProperty(object):\n",
    "    operators = 'eq', 'ne', 'lt', 'lte', 'gt', 'gte', 'ne', 'in', 'nin', 'exists', 'type', 'mod', 'where', 'text', 'regex', 'size', 'elemMatch', 'all', 'comment', 'slice', 'meta', \n",
    "\n",
    "    def __init__(self, path_to_property, content_attr_name=None):\n",
    "        super(MongoProperty, self).__init__()\n",
    "        self.owner = None\n",
    "        self.content_attr_name = content_attr_name\n",
    "        self.dotmapper = DotMapper(path_to_property)\n",
    "        self.e = Stub()\n",
    "        self.createops()\n",
    "        self._name = None\n",
    "    \n",
    "    def __unicode__(self):\n",
    "        return unicode(self.dotmapper)\n",
    "    \n",
    "    def __get__(self, instance, owner):\n",
    "        self.owner = owner\n",
    "        if instance is None:\n",
    "            return self\n",
    "        else:\n",
    "            content_attr_name = self.content_attr_name or getattr(instance, '_content_attr_name', None)\n",
    "            assert content_attr_name, 'Missing content attr name. Please define _content_attr_name in class or content_attr_name in property constructor.'\n",
    "            content = getattr(instance, content_attr_name)\n",
    "            return self.dotmapper(content)\n",
    "\n",
    "    def __set__(self, instance, value):\n",
    "        instance.update_fields(**{self.dotmapper:value})\n",
    "        \n",
    "    def name(self):\n",
    "        if self._name is None:\n",
    "            for attr in dir(self.owner):\n",
    "                if getattr(self, attr) == self:\n",
    "                    self._name = attr\n",
    "                    break\n",
    "            else:\n",
    "                raise Exception('Cannot find name of mongo property in owner.')\n",
    "        return self._name\n",
    "            \n",
    "    def expression(self, val, op=None):\n",
    "        parts = self.dotmapper.parts\n",
    "        if op not in (None,'eq'):\n",
    "            parts += [op]\n",
    "        label = '__'.join(parts)\n",
    "        return query(**{label:val})\n",
    "\n",
    "    def createops(self):\n",
    "        for op in self.operators:\n",
    "            func = functools.partial(self.expression, op=op)\n",
    "            setattr(self.e, op, func)\n",
    "            \n"
   ]
  },
  {
   "cell_type": "code",
   "execution_count": 41,
   "metadata": {
    "collapsed": false
   },
   "outputs": [],
   "source": [
    "class Options(object):\n",
    "    _fields = 'collection_name', 'database_name'\n",
    "    def __init__(self, **kwargs):\n",
    "        super(Options, self).__init__()\n",
    "        for f in self._fields:\n",
    "            setattr(self, f, kwargs.get(f))\n",
    "        self.dirty_fields = {}\n",
    "        self.field_names = []"
   ]
  },
  {
   "cell_type": "code",
   "execution_count": 42,
   "metadata": {
    "collapsed": true
   },
   "outputs": [],
   "source": [
    "def create_options(target_cls, *sorted_meta_options_classes):\n",
    "    dct = {}\n",
    "    for opt_cls in sorted_meta_options_classes:\n",
    "        dct.update(opt_cls.__dict__)\n",
    "    return target_cls(**dct)"
   ]
  },
  {
   "cell_type": "code",
   "execution_count": 43,
   "metadata": {
    "collapsed": false
   },
   "outputs": [],
   "source": [
    "class MetaOptionsMixin(object):\n",
    "    _meta = None\n",
    "    class Meta:\n",
    "        options_class = Options\n",
    "\n",
    "    @classmethod\n",
    "    def get_meta_classes(cls, reverse=False):\n",
    "        classes = []\n",
    "        if reverse:\n",
    "            cls_list = reversed(cls.mro())\n",
    "        else:\n",
    "            cls_list = cls.mro()\n",
    "        for class_ in cls_list:\n",
    "            MetaCls = getattr(class_, 'Meta', None)\n",
    "            if MetaCls:\n",
    "                classes.append(MetaCls)\n",
    "        return classes\n",
    "            \n",
    "    @classmethod\n",
    "    def get_options_class(cls):\n",
    "        for class_ in cls.mro():\n",
    "            if not hasattr(class_, 'get_meta_classes'):\n",
    "                continue\n",
    "            for Meta in class_.get_meta_classes(reverse=False):\n",
    "                OptionsClass = getattr(Meta, 'options_class', None)\n",
    "                if OptionsClass:\n",
    "                    return OptionsClass\n",
    "        raise Exception('Missing options class on class %s' % cls)\n",
    "\n",
    "    @classmethod\n",
    "    def create_options(cls):\n",
    "        options_class = cls.get_options_class()\n",
    "        meta_options = cls.get_meta_classes(reverse=True)\n",
    "        cls._meta = create_options(options_class, *meta_options)"
   ]
  },
  {
   "cell_type": "code",
   "execution_count": 44,
   "metadata": {
    "collapsed": true
   },
   "outputs": [],
   "source": [
    "class ModelCursor(object):\n",
    "    def __init__(self, model, cursor):\n",
    "        super(ModelCursor, self).__init__()\n",
    "        self.model = model\n",
    "        self.cursor = cursor\n",
    "    \n",
    "    def next(self):\n",
    "        return self.model(data=self.cursor.next())\n",
    "        \n",
    "    def __iter__(self):\n",
    "        for c in self.cursor:\n",
    "            yield self.model(data=c)"
   ]
  },
  {
   "cell_type": "code",
   "execution_count": 45,
   "metadata": {
    "collapsed": false
   },
   "outputs": [],
   "source": [
    "def modelcursor(func):\n",
    "    ''' Decorator wraps cursor in a model cursor '''\n",
    "    def decorator(self, *args, **kwargs):\n",
    "        cur = func(self, *args, **kwargs)\n",
    "        return ModelCursor(self.mongo_model, cur)\n",
    "    return decorator\n",
    "        \n",
    "        \n",
    "class MongoModelQuery(object):\n",
    "    client = None\n",
    "    def __init__(self, \n",
    "                 mongo_model, \n",
    "                 collection_name=None, \n",
    "                 database_name=None, \n",
    "                 client=None):\n",
    "        super(MongoModelQuery, self).__init__()\n",
    "        self.mongo_model = mongo_model\n",
    "        self.client = client\n",
    "        self.database_name = database_name \n",
    "        self.collection_name = collection_name \n",
    "\n",
    "    @property\n",
    "    def database(self):\n",
    "        return self.client[self.database_name]\n",
    "\n",
    "    @property\n",
    "    def collection(self):\n",
    "        return self.database[self.collection_name]\n",
    "        \n",
    "    @classmethod\n",
    "    def bind_client(cls, client):\n",
    "        cls.client = client\n",
    "\n",
    "    @modelcursor\n",
    "    def find(self, *args):\n",
    "        kwargs, projection = {}, {}\n",
    "        if len(args):\n",
    "            kwargs = args[0] or {}\n",
    "            if len(args) > 1:\n",
    "                projection = args[1] or {}\n",
    "        if kwargs is not None:\n",
    "            exp = self.mongo_model.create_expression(**kwargs)\n",
    "        else:\n",
    "            exp = {}\n",
    "        data = self.collection.find(exp, projection)\n",
    "        return data\n",
    "    \n",
    "    def find_one(self):\n",
    "        return self.mongo_model(self.collection.find_one())\n",
    "    \n",
    "    @modelcursor\n",
    "    def query(self, **kwargs):\n",
    "        exp = self.mongo_model.create_expression(**kwargs)\n",
    "        data = self.collection.find(exp)\n",
    "        return data"
   ]
  },
  {
   "cell_type": "code",
   "execution_count": 46,
   "metadata": {
    "collapsed": true
   },
   "outputs": [],
   "source": [
    "class mongo_content(object):\n",
    "    \n",
    "    def __init__(self, \n",
    "                 collection_path=None,\n",
    "                 collection_attr='get_mongo_collection', \n",
    "                 filter_mongo_collection_attr='filter_mongo_collection', \n",
    "                 document_id_attr='document_id'):\n",
    "        super(mongo_content, self).__init__()\n",
    "        self.collection_path = collection_path\n",
    "        self.collection_attr = collection_attr\n",
    "        self.document_id_attr = document_id_attr\n",
    "        self._cur = None\n",
    "        self.filter_mongo_collection_attr = filter_mongo_collection_attr\n",
    "    \n",
    "    def __get__(self, instance, owner):\n",
    "        if instance is None:\n",
    "            return self\n",
    "        else:\n",
    "            docid = bson.ObjectId(getattr(instance, self.document_id_attr))\n",
    "            coll = getattr(instance, self.collection_attr)\n",
    "            if callable(coll):\n",
    "                coll = coll()\n",
    "            data = coll.find_one({'_id':docid})\n",
    "            if self.collection_path is not None:\n",
    "                mapper = DotMapper(self.collection_path)\n",
    "                return mapper(data)\n",
    "            return data"
   ]
  },
  {
   "cell_type": "code",
   "execution_count": 47,
   "metadata": {
    "collapsed": false
   },
   "outputs": [],
   "source": [
    "class MongoCollectionMixin(object):\n",
    "\n",
    "    _content_attr_name = 'content_cache'\n",
    "    \n",
    "    def __init__(self, data):\n",
    "        super(MongoCollectionMixin, self).__init__()\n",
    "        self._data_cache = None\n",
    "        self._content_cache = data\n",
    "        self.document_id = data.get('_id')\n",
    "    \n",
    "    @property\n",
    "    def content_cache(self):\n",
    "        if self._data_cache is None:\n",
    "            self._data_cache = self._content  # this is where it really lives\n",
    "        return self._data_cache\n",
    "\n",
    "    def clear_cache(self):\n",
    "        self._content_cache = None\n",
    "    \n",
    "    @classmethod\n",
    "    def get_mongo_collection(self):\n",
    "        return self.q.collection     \n",
    "\n",
    "    def update_fields(self, **kwargs):\n",
    "        target = kwargs.get('target', None) or self.content_cache\n",
    "        for k, v in kwargs.iteritems():\n",
    "            self._meta.dirty_fields[k] = v\n",
    "            dict_setter = DotMapper(k).dict_setter()\n",
    "            dict_setter(val=v, dct=target)\n",
    "            \n",
    "    def save(self):\n",
    "        coll = self.get_mongo_collection()\n",
    "        dirty = self._meta.dirty_fields\n",
    "        if dirty:\n",
    "            coll.update({'_id':self.document_id}, {'$set': dirty})\n",
    "            self.clear_cache()   "
   ]
  },
  {
   "cell_type": "code",
   "execution_count": 48,
   "metadata": {
    "collapsed": false
   },
   "outputs": [],
   "source": [
    "class MongoModel(MetaOptionsMixin, MongoCollectionMixin):\n",
    "    \n",
    "    class Meta:\n",
    "        database_name = None\n",
    "        collection_name = None\n",
    "        dirty_fields = None\n",
    "    \n",
    "    @classmethod\n",
    "    def create_expression(cls, **kwargs):\n",
    "        return mq(cls, **kwargs)\n",
    "    @classmethod\n",
    "    def _get_mongo_property_names(cls):\n",
    "        for f in dir(cls):\n",
    "            val = getattr(cls, f, None)\n",
    "            if isinstance(val, MongoProperty):\n",
    "                yield f\n",
    "                \n",
    "    def as_dict(self):\n",
    "        return {k:getattr(self, k) for k in self._get_mongo_property_names()}"
   ]
  },
  {
   "cell_type": "code",
   "execution_count": 49,
   "metadata": {
    "collapsed": true
   },
   "outputs": [],
   "source": [
    "def register_models(*MongoModelClasses, **kwargs):\n",
    "    client = kwargs.pop('client', None)\n",
    "    for MongoModelClass in MongoModelClasses:\n",
    "        MongoModelClass.create_options()\n",
    "        MongoModelClass._meta.field_names = list(MongoModelClass._get_mongo_property_names())\n",
    "        MongoModelClass.q = MongoModelQuery(MongoModelClass,\n",
    "                                           database_name=MongoModelClass._meta.database_name,\n",
    "                                           collection_name=MongoModelClass._meta.collection_name,\n",
    "                                           client=client)"
   ]
  },
  {
   "cell_type": "code",
   "execution_count": 50,
   "metadata": {
    "collapsed": false
   },
   "outputs": [],
   "source": [
    "class BigqueryJob(MongoModel, MongoCollectionMixin):\n",
    "    class Meta:\n",
    "        database_name = 'logs'\n",
    "        collection_name = 'bigquery_jobs'\n",
    "        \n",
    "    _content = mongo_content()\n",
    "    error = MongoProperty('status.errorResult.message')\n",
    "    state = MongoProperty('status.state')\n",
    "    output = MongoProperty('jobReference')\n",
    "    \n",
    "    kind = MongoProperty('kind')\n",
    "    job_id = MongoProperty('jobReference.jobId')\n",
    "    job_project_id = MongoProperty('jobReference.projectId')\n",
    "    \n",
    "    created = MongoProperty('statistics.creationTime')\n",
    "    ended = MongoProperty('statistics.endTime')\n",
    "    started = MongoProperty('statistics.startTime')"
   ]
  },
  {
   "cell_type": "code",
   "execution_count": 51,
   "metadata": {
    "collapsed": true
   },
   "outputs": [],
   "source": [
    "# Testing expressions \n",
    "# mq.and_(BigqueryJob, prop='test', oooo__lt=9)\n",
    "# mq.or_(BigqueryJob, prop='test', oooo__lt=9)\n",
    "# mq.not_(BigqueryJob, prop='test', oooo__lt=9)\n",
    "# BigqueryJob.create_expression(**{'not_':dict(prop='test', oooo__lt=9)})\n",
    "# BigqueryJob.create_expression(**{'not_':dict(prop='test', oooo__lt=9), 'tee__eest.Ting__lte':9})"
   ]
  },
  {
   "cell_type": "code",
   "execution_count": 52,
   "metadata": {
    "collapsed": true
   },
   "outputs": [],
   "source": [
    "import pymongo\n",
    "cli = pymongo.MongoClient()\n",
    "db = cli['logs']\n",
    "collection = db['bigquery_jobs']"
   ]
  },
  {
   "cell_type": "code",
   "execution_count": 53,
   "metadata": {
    "collapsed": false
   },
   "outputs": [],
   "source": [
    "register_models(BigqueryJob, client=cli)"
   ]
  },
  {
   "cell_type": "code",
   "execution_count": 54,
   "metadata": {
    "collapsed": false
   },
   "outputs": [
    {
     "data": {
      "text/plain": [
       "{'created': u'1444309984342',\n",
       " 'ended': u'1444310017418',\n",
       " 'error': None,\n",
       " 'job_id': u'job_2308320498MASDAD',\n",
       " 'job_project_id': u'pretend-project',\n",
       " 'kind': u'bigquery#job',\n",
       " 'output': {u'jobId': u'job_2308320498MASDAD',\n",
       "  u'projectId': u'pretend-project'},\n",
       " 'started': u'1444310001693',\n",
       " 'state': u'DONE'}"
      ]
     },
     "execution_count": 54,
     "metadata": {},
     "output_type": "execute_result"
    }
   ],
   "source": [
    "bqj = BigqueryJob.q.find_one()\n",
    "bqj.as_dict()"
   ]
  },
  {
   "cell_type": "code",
   "execution_count": 55,
   "metadata": {
    "collapsed": false
   },
   "outputs": [],
   "source": [
    "with_errors = BigqueryJob.q.query(error__exists=True)"
   ]
  },
  {
   "cell_type": "code",
   "execution_count": 56,
   "metadata": {
    "collapsed": false
   },
   "outputs": [
    {
     "data": {
      "text/plain": [
       "4"
      ]
     },
     "execution_count": 56,
     "metadata": {},
     "output_type": "execute_result"
    }
   ],
   "source": [
    "with_errors.cursor.count()"
   ]
  },
  {
   "cell_type": "code",
   "execution_count": 57,
   "metadata": {
    "collapsed": false
   },
   "outputs": [
    {
     "data": {
      "text/plain": [
       "4"
      ]
     },
     "execution_count": 57,
     "metadata": {},
     "output_type": "execute_result"
    }
   ],
   "source": [
    "# you can also query the original structure: \n",
    "BigqueryJob.q.query(status__errorResult__exists=True).cursor.count()"
   ]
  },
  {
   "cell_type": "code",
   "execution_count": 58,
   "metadata": {
    "collapsed": false
   },
   "outputs": [
    {
     "data": {
      "text/plain": [
       "{'created': u'1444240356405',\n",
       " 'ended': u'1444240385987',\n",
       " 'error': u'Resources exceeded during query execution.',\n",
       " 'job_id': u'job_2308320498MASDAD',\n",
       " 'job_project_id': u'pretend-project',\n",
       " 'kind': u'bigquery#job',\n",
       " 'output': {u'jobId': u'job_2308320498MASDAD',\n",
       "  u'projectId': u'pretend-project'},\n",
       " 'started': u'1444240356860',\n",
       " 'state': u'DONE'}"
      ]
     },
     "execution_count": 58,
     "metadata": {},
     "output_type": "execute_result"
    }
   ],
   "source": [
    "with_errors.next().as_dict()"
   ]
  },
  {
   "cell_type": "code",
   "execution_count": 59,
   "metadata": {
    "collapsed": false
   },
   "outputs": [],
   "source": [
    "random_job = BigqueryJob.q.find_one()"
   ]
  },
  {
   "cell_type": "code",
   "execution_count": 60,
   "metadata": {
    "collapsed": false
   },
   "outputs": [
    {
     "data": {
      "text/plain": [
       "u'DONE'"
      ]
     },
     "execution_count": 60,
     "metadata": {},
     "output_type": "execute_result"
    }
   ],
   "source": [
    "random_job.state"
   ]
  },
  {
   "cell_type": "code",
   "execution_count": 61,
   "metadata": {
    "collapsed": false
   },
   "outputs": [
    {
     "name": "stdout",
     "output_type": "stream",
     "text": [
      "lets make the job silly, but dont save it\n",
      "SILLY from dirty cache random_job.state\n",
      "DONE from original random_job._content['status']['state']\n"
     ]
    }
   ],
   "source": [
    "print 'lets make the job silly, but dont save it'\n",
    "random_job.state = 'SILLY'\n",
    "print random_job.state, 'from dirty cache random_job.state'\n",
    "print random_job._content['status']['state'], \"from original random_job._content['status']['state']\""
   ]
  },
  {
   "cell_type": "code",
   "execution_count": 62,
   "metadata": {
    "collapsed": false
   },
   "outputs": [
    {
     "name": "stdout",
     "output_type": "stream",
     "text": [
      "ok save it\n",
      "SILLY from dirty cache random_job.state\n",
      "SILLY from original random_job._content['status']['state']\n"
     ]
    }
   ],
   "source": [
    "print 'ok save it'\n",
    "random_job.save()\n",
    "print random_job.state, 'from dirty cache random_job.state'\n",
    "print random_job._content['status']['state'], \"from original random_job._content['status']['state']\""
   ]
  },
  {
   "cell_type": "code",
   "execution_count": 63,
   "metadata": {
    "collapsed": false
   },
   "outputs": [
    {
     "name": "stdout",
     "output_type": "stream",
     "text": [
      "and then revert because changing logs is not silly.\n",
      "DONE from original random_job._content['status']['state']\n"
     ]
    }
   ],
   "source": [
    "print 'and then revert because changing logs is not silly.'\n",
    "random_job.state = \"DONE\"\n",
    "random_job.save()\n",
    "print random_job._content['status']['state'], \"from original random_job._content['status']['state']\""
   ]
  },
  {
   "cell_type": "code",
   "execution_count": null,
   "metadata": {
    "collapsed": true
   },
   "outputs": [],
   "source": []
  },
  {
   "cell_type": "code",
   "execution_count": null,
   "metadata": {
    "collapsed": true
   },
   "outputs": [],
   "source": []
  }
 ],
 "metadata": {
  "kernelspec": {
   "display_name": "Django Shell-Plus",
   "language": "python",
   "name": "django_extensions"
  },
  "language_info": {
   "codemirror_mode": {
    "name": "ipython",
    "version": 2
   },
   "file_extension": ".py",
   "mimetype": "text/x-python",
   "name": "python",
   "nbconvert_exporter": "python",
   "pygments_lexer": "ipython2",
   "version": "2.7.10"
  }
 },
 "nbformat": 4,
 "nbformat_minor": 0
}
